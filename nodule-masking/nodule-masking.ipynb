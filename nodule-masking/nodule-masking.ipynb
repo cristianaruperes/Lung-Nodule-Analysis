{
 "cells": [
  {
   "cell_type": "code",
   "execution_count": null,
   "metadata": {},
   "outputs": [],
   "source": [
    "import os\n",
    "import cv2\n",
    "import copy\n",
    "import numpy as np\n",
    "import pandas as pd\n",
    "from tqdm import tqdm\n",
    "from glob import glob\n",
    "import matplotlib.pyplot as plt\n",
    "\n",
    "import SimpleITK as stk"
   ]
  },
  {
   "cell_type": "code",
   "execution_count": 1,
   "metadata": {},
   "outputs": [
    {
     "data": {
      "text/plain": [
       "'2.10.0'"
      ]
     },
     "execution_count": 1,
     "metadata": {},
     "output_type": "execute_result"
    }
   ],
   "source": [
    "import tensorflow as tf\n",
    "tf.__version__"
   ]
  },
  {
   "cell_type": "code",
   "execution_count": 286,
   "metadata": {},
   "outputs": [],
   "source": [
    "root = \"data/luna16/\"\n",
    "root_images = \"data/luna16/original/\""
   ]
  },
  {
   "cell_type": "code",
   "execution_count": 287,
   "metadata": {},
   "outputs": [],
   "source": [
    "def load_mhd(file):\n",
    "    mhdimage = stk.ReadImage(file)\n",
    "    ct_scan = stk.GetArrayFromImage(mhdimage)    # indexes are z,y,x\n",
    "    origin = np.array(mhdimage.GetOrigin())      # x,y,z  Origin in world coordinates (mm)\n",
    "    space = np.array(mhdimage.GetSpacing())      # spacing of voxels in world coor. (mm)\n",
    "    return ct_scan, origin, space"
   ]
  },
  {
   "cell_type": "code",
   "execution_count": 288,
   "metadata": {},
   "outputs": [
    {
     "name": "stdout",
     "output_type": "stream",
     "text": [
      "Files Count: 692\n",
      "DF Count: 1186\n"
     ]
    }
   ],
   "source": [
    "# subset = 0    # Ran for 0...9\n",
    "num_subsets = 11    # Ran for 0...9\n",
    "file_list = []\n",
    "\n",
    "# file_list = glob(root_images+f\"subset{subset}/*.mhd\")\n",
    "for subset in range(num_subsets):\n",
    "    file_list.extend(glob(root_images + f\"subset{subset}/*.mhd\"))\n",
    "\n",
    "annotations_df = pd.read_csv(root + \"modif-annotations.csv\")\n",
    "print(\"Files Count:\",len(file_list))\n",
    "print(\"DF Count:\",len(annotations_df))\n",
    "\n",
    "# # Extract filenames without the path and without the .mhd extension\n",
    "# file_names = [os.path.splitext(os.path.basename(file_path))[0] for file_path in file_list]\n",
    "# print(file_names)\n",
    "\n",
    "# # Filter rows in annotations_df where \"seriesuid\" is in the list of file_names\n",
    "# filtered_annotations_df = annotations_df[annotations_df[\"seriesuid\"].isin(file_names)]\n",
    "\n",
    "# # Now, filtered_annotations_df contains only the rows with \"seriesuid\" matching the file_names\n",
    "# print(filtered_annotations_df)\n",
    "\n",
    "annotations_df.head()\n",
    "\n",
    "annotations_df_check = annotations_df"
   ]
  },
  {
   "cell_type": "code",
   "execution_count": 289,
   "metadata": {},
   "outputs": [
    {
     "data": {
      "image/png": "[encoded data removed]",
      "text/plain": [
       "<Figure size 640x480 with 1 Axes>"
      ]
     },
     "metadata": {},
     "output_type": "display_data"
    }
   ],
   "source": [
    "d = annotations_df['diameter_mm'].values\n",
    "fig = plt.hist(d, bins=80)"
   ]
  },
  {
   "cell_type": "code",
   "execution_count": 290,
   "metadata": {},
   "outputs": [],
   "source": [
    "def get_filename(file_list, file):\n",
    "    for f in file_list:\n",
    "        if file in f:\n",
    "            return f"
   ]
  },
  {
   "cell_type": "code",
   "execution_count": 291,
   "metadata": {},
   "outputs": [
    {
     "name": "stdout",
     "output_type": "stream",
     "text": [
      "958\n",
      "1186\n"
     ]
    }
   ],
   "source": [
    "\n",
    "annotations_df[\"filename\"] = annotations_df[\"seriesuid\"].map(lambda file: get_filename(file_list, file))\n",
    "annotations_df = annotations_df.dropna()\n",
    "# annotations_df = annotations_df[annotations_df['diameter_mm']>=3.9]     # Excluding nodules with diameter less than 3.9mm\n",
    "print(len(annotations_df))\n",
    "print(len(annotations_df_check))"
   ]
  },
  {
   "cell_type": "code",
   "execution_count": null,
   "metadata": {},
   "outputs": [],
   "source": [
    "# # ############### Check where rows that dont have file\n",
    "\n",
    "\n",
    "# # Merge the DataFrames using an outer join and indicator=True\n",
    "# merged_df = pd.merge(annotations_df_check, annotations_df, how='outer', indicator=True)\n",
    "\n",
    "# # Filter rows that are only in annotations_df_check\n",
    "# rows_only_in_annotations_df_check = merged_df[merged_df['_merge'] == 'left_only']\n",
    "\n",
    "# # Filter rows that are only in annotation_normal\n",
    "# rows_only_in_annotation_normal = merged_df[merged_df['_merge'] == 'right_only']\n",
    "\n",
    "# # Display the results or perform further analysis\n",
    "# print(\"Rows only in annotations_df_check:\")\n",
    "# print(rows_only_in_annotations_df_check)\n",
    "\n",
    "# print(\"\\nRows only in annotation_normal:\")\n",
    "# print(rows_only_in_annotation_normal)\n",
    "\n",
    "# # # Define the CSV file path where you want to save the data\n",
    "# # csv_file_path_test = root + 'output3/not-included.csv'\n",
    "\n",
    "# # # Save the DataFrame to a CSV file\n",
    "# # rows_only_in_annotations_df_check.to_csv(csv_file_path_test, index=False)"
   ]
  },
  {
   "cell_type": "code",
   "execution_count": 292,
   "metadata": {},
   "outputs": [],
   "source": [
    "# annotations_df.head()\n",
    "\n",
    "# # Define the CSV file path where you want to save the data\n",
    "# csv_file_path = root + 'check-annot-fix.csv'\n",
    "\n",
    "# # Save the DataFrame to a CSV file\n",
    "# annotations_df.to_csv(csv_file_path, index=False)"
   ]
  },
  {
   "cell_type": "code",
   "execution_count": null,
   "metadata": {},
   "outputs": [],
   "source": [
    "def display(imgs, titles=None, cmap=\"bone\"):\n",
    "    n = len(list(imgs))\n",
    "    r = n//4 if n%4==0 else (n//4)+1\n",
    "    plt.figure(figsize=(25,14))\n",
    "    for i,img in enumerate(imgs):\n",
    "        plt.subplot(r,4,i+1)\n",
    "        if titles is not None:\n",
    "            plt.title(titles[i])\n",
    "        plt.imshow(img, cmap=cmap)"
   ]
  },
  {
   "cell_type": "code",
   "execution_count": null,
   "metadata": {},
   "outputs": [],
   "source": [
    "# def display_mask(imgs, masks, titles=None, cmap=\"bone\"):\n",
    "#     n = len(list(imgs))\n",
    "#     # n = 12\n",
    "#     r = n//2 if n%2==0 else (n//2)+1\n",
    "#     plt.figure(figsize=(20,40))\n",
    "#     for i,(img, mask) in enumerate(zip(imgs,masks)):\n",
    "#         plt.subplot(r,2,i+1)\n",
    "#         ig = np.hstack((img, mask))\n",
    "#         if titles is not None:\n",
    "#             plt.title(titles[i])\n",
    "#         plt.imshow(ig, cmap=cmap)\n",
    "\n",
    "def display_mask_in_batches(imgs, masks, titles=None, cmap=\"bone\", batch_size=6):\n",
    "    n = len(list(imgs))\n",
    "    num_batches = (n + batch_size - 1) // batch_size\n",
    "\n",
    "    for batch in range(num_batches):\n",
    "        start_idx = batch * batch_size\n",
    "        end_idx = min((batch + 1) * batch_size, n)\n",
    "\n",
    "        r = end_idx - start_idx\n",
    "        plt.figure(figsize=(20, 4 * r))\n",
    "\n",
    "        for i, (img, mask) in enumerate(zip(imgs[start_idx:end_idx], masks[start_idx:end_idx])):\n",
    "            plt.subplot(r, 2, i + 1)\n",
    "            ig = np.hstack((img, mask))\n",
    "            if titles is not None:\n",
    "                plt.title(titles[i + start_idx])\n",
    "            plt.imshow(ig, cmap=cmap)\n",
    "\n",
    "        plt.show()"
   ]
  },
  {
   "cell_type": "code",
   "execution_count": 296,
   "metadata": {},
   "outputs": [
    {
     "name": "stdout",
     "output_type": "stream",
     "text": [
      "DF Count: 1\n"
     ]
    },
    {
     "data": {
      "text/html": [
       "<div>\n",
       "<style scoped>\n",
       "    .dataframe tbody tr th:only-of-type {\n",
       "        vertical-align: middle;\n",
       "    }\n",
       "\n",
       "    .dataframe tbody tr th {\n",
       "        vertical-align: top;\n",
       "    }\n",
       "\n",
       "    .dataframe thead th {\n",
       "        text-align: right;\n",
       "    }\n",
       "</style>\n",
       "<table border=\"1\" class=\"dataframe\">\n",
       "  <thead>\n",
       "    <tr style=\"text-align: right;\">\n",
       "      <th></th>\n",
       "      <th>id</th>\n",
       "      <th>seriesuid</th>\n",
       "      <th>coordX</th>\n",
       "      <th>coordY</th>\n",
       "      <th>coordZ</th>\n",
       "      <th>diameter_mm</th>\n",
       "      <th>filename</th>\n",
       "    </tr>\n",
       "  </thead>\n",
       "  <tbody>\n",
       "    <tr>\n",
       "      <th>0</th>\n",
       "      <td>A00371</td>\n",
       "      <td>1.3.6.1.4.1.14519.5.2.1.6279.6001.194632613233...</td>\n",
       "      <td>-47.89877</td>\n",
       "      <td>-10.22492</td>\n",
       "      <td>-96.113602</td>\n",
       "      <td>20.159984</td>\n",
       "      <td>data/luna16/original/subset9\\1.3.6.1.4.1.14519...</td>\n",
       "    </tr>\n",
       "  </tbody>\n",
       "</table>\n",
       "</div>"
      ],
      "text/plain": [
       "       id                                          seriesuid    coordX  \\\n",
       "0  A00371  1.3.6.1.4.1.14519.5.2.1.6279.6001.194632613233... -47.89877   \n",
       "\n",
       "     coordY     coordZ  diameter_mm  \\\n",
       "0 -10.22492 -96.113602    20.159984   \n",
       "\n",
       "                                            filename  \n",
       "0  data/luna16/original/subset9\\1.3.6.1.4.1.14519...  "
      ]
     },
     "execution_count": 296,
     "metadata": {},
     "output_type": "execute_result"
    }
   ],
   "source": [
    "annotations_df = pd.read_csv(root + \"check-annot.csv\")\n",
    "annotations_df.head()\n",
    "print(\"DF Count:\",len(annotations_df))\n",
    "annotations_df.head()"
   ]
  },
  {
   "cell_type": "code",
   "execution_count": 297,
   "metadata": {},
   "outputs": [],
   "source": [
    "def make_mask(img, center, diam):\n",
    "    mask = np.zeros_like(img, dtype=np.uint8)\n",
    "    mask = cv2.circle(mask, (int(center[0]),int(center[1])), diam//2, 255, -1)\n",
    "    return mask"
   ]
  },
  {
   "cell_type": "code",
   "execution_count": 298,
   "metadata": {},
   "outputs": [
    {
     "name": "stderr",
     "output_type": "stream",
     "text": [
      "0it [00:00, ?it/s]\n"
     ]
    },
    {
     "ename": "RuntimeError",
     "evalue": "Exception thrown in SimpleITK ImageFileReader_Execute: D:\\a\\1\\sitk-build\\ITK\\Modules\\IO\\Meta\\src\\itkMetaImageIO.cxx:484:\nITK ERROR: MetaImageIO(0000013FB069FB80): File cannot be read: data/luna16/original/subset9\\1.3.6.1.4.1.14519.5.2.1.6279.6001.194632613233275988184244485809.mhd for reading.\nReason: No such file or directory",
     "output_type": "error",
     "traceback": [
      "\u001b[1;31m---------------------------------------------------------------------------\u001b[0m",
      "\u001b[1;31mRuntimeError\u001b[0m                              Traceback (most recent call last)",
      "\u001b[1;32m~\\AppData\\Local\\Temp\\ipykernel_22496\\3877711202.py\u001b[0m in \u001b[0;36m?\u001b[1;34m()\u001b[0m\n\u001b[0;32m     26\u001b[0m \u001b[0mclahe\u001b[0m \u001b[1;33m=\u001b[0m \u001b[0mcv2\u001b[0m\u001b[1;33m.\u001b[0m\u001b[0mcreateCLAHE\u001b[0m\u001b[1;33m(\u001b[0m\u001b[0mclipLimit\u001b[0m\u001b[1;33m=\u001b[0m\u001b[1;36m2.0\u001b[0m\u001b[1;33m,\u001b[0m \u001b[0mtileGridSize\u001b[0m\u001b[1;33m=\u001b[0m\u001b[1;33m(\u001b[0m\u001b[1;36m8\u001b[0m\u001b[1;33m,\u001b[0m\u001b[1;36m8\u001b[0m\u001b[1;33m)\u001b[0m\u001b[1;33m)\u001b[0m\u001b[1;33m\u001b[0m\u001b[1;33m\u001b[0m\u001b[0m\n\u001b[0;32m     27\u001b[0m \u001b[1;33m\u001b[0m\u001b[0m\n\u001b[0;32m     28\u001b[0m \u001b[1;32mfor\u001b[0m \u001b[0mi\u001b[0m\u001b[1;33m,\u001b[0m\u001b[0mfile\u001b[0m \u001b[1;32min\u001b[0m \u001b[0mtqdm\u001b[0m\u001b[1;33m(\u001b[0m\u001b[0menumerate\u001b[0m\u001b[1;33m(\u001b[0m\u001b[0mnp\u001b[0m\u001b[1;33m.\u001b[0m\u001b[0munique\u001b[0m\u001b[1;33m(\u001b[0m\u001b[0mannotations_df\u001b[0m\u001b[1;33m[\u001b[0m\u001b[1;34m'filename'\u001b[0m\u001b[1;33m]\u001b[0m\u001b[1;33m.\u001b[0m\u001b[0mvalues\u001b[0m\u001b[1;33m)\u001b[0m\u001b[1;33m)\u001b[0m\u001b[1;33m)\u001b[0m\u001b[1;33m:\u001b[0m\u001b[1;33m\u001b[0m\u001b[1;33m\u001b[0m\u001b[0m\n\u001b[0;32m     29\u001b[0m     \u001b[0mannotations\u001b[0m \u001b[1;33m=\u001b[0m \u001b[0mannotations_df\u001b[0m\u001b[1;33m[\u001b[0m\u001b[0mannotations_df\u001b[0m\u001b[1;33m[\u001b[0m\u001b[1;34m\"filename\"\u001b[0m\u001b[1;33m]\u001b[0m\u001b[1;33m==\u001b[0m\u001b[0mfile\u001b[0m\u001b[1;33m]\u001b[0m\u001b[1;33m\u001b[0m\u001b[1;33m\u001b[0m\u001b[0m\n\u001b[1;32m---> 30\u001b[1;33m     \u001b[0mct\u001b[0m\u001b[1;33m,\u001b[0m \u001b[0morigin\u001b[0m\u001b[1;33m,\u001b[0m \u001b[0mspacing\u001b[0m \u001b[1;33m=\u001b[0m \u001b[0mload_mhd\u001b[0m\u001b[1;33m(\u001b[0m\u001b[0mfile\u001b[0m\u001b[1;33m)\u001b[0m\u001b[1;33m\u001b[0m\u001b[1;33m\u001b[0m\u001b[0m\n\u001b[0m\u001b[0;32m     31\u001b[0m \u001b[1;33m\u001b[0m\u001b[0m\n\u001b[0;32m     32\u001b[0m     \u001b[1;31m# print(spacing)\u001b[0m\u001b[1;33m\u001b[0m\u001b[1;33m\u001b[0m\u001b[0m\n\u001b[0;32m     33\u001b[0m \u001b[1;33m\u001b[0m\u001b[0m\n",
      "\u001b[1;32m~\\AppData\\Local\\Temp\\ipykernel_22496\\2165559675.py\u001b[0m in \u001b[0;36m?\u001b[1;34m(file)\u001b[0m\n\u001b[0;32m      1\u001b[0m \u001b[1;32mdef\u001b[0m \u001b[0mload_mhd\u001b[0m\u001b[1;33m(\u001b[0m\u001b[0mfile\u001b[0m\u001b[1;33m)\u001b[0m\u001b[1;33m:\u001b[0m\u001b[1;33m\u001b[0m\u001b[1;33m\u001b[0m\u001b[0m\n\u001b[1;32m----> 2\u001b[1;33m     \u001b[0mmhdimage\u001b[0m \u001b[1;33m=\u001b[0m \u001b[0mstk\u001b[0m\u001b[1;33m.\u001b[0m\u001b[0mReadImage\u001b[0m\u001b[1;33m(\u001b[0m\u001b[0mfile\u001b[0m\u001b[1;33m)\u001b[0m\u001b[1;33m\u001b[0m\u001b[1;33m\u001b[0m\u001b[0m\n\u001b[0m\u001b[0;32m      3\u001b[0m     \u001b[0mct_scan\u001b[0m \u001b[1;33m=\u001b[0m \u001b[0mstk\u001b[0m\u001b[1;33m.\u001b[0m\u001b[0mGetArrayFromImage\u001b[0m\u001b[1;33m(\u001b[0m\u001b[0mmhdimage\u001b[0m\u001b[1;33m)\u001b[0m    \u001b[1;31m# indexes are z,y,x\u001b[0m\u001b[1;33m\u001b[0m\u001b[1;33m\u001b[0m\u001b[0m\n\u001b[0;32m      4\u001b[0m     \u001b[0morigin\u001b[0m \u001b[1;33m=\u001b[0m \u001b[0mnp\u001b[0m\u001b[1;33m.\u001b[0m\u001b[0marray\u001b[0m\u001b[1;33m(\u001b[0m\u001b[0mmhdimage\u001b[0m\u001b[1;33m.\u001b[0m\u001b[0mGetOrigin\u001b[0m\u001b[1;33m(\u001b[0m\u001b[1;33m)\u001b[0m\u001b[1;33m)\u001b[0m      \u001b[1;31m# x,y,z  Origin in world coordinates (mm)\u001b[0m\u001b[1;33m\u001b[0m\u001b[1;33m\u001b[0m\u001b[0m\n\u001b[0;32m      5\u001b[0m     \u001b[0mspace\u001b[0m \u001b[1;33m=\u001b[0m \u001b[0mnp\u001b[0m\u001b[1;33m.\u001b[0m\u001b[0marray\u001b[0m\u001b[1;33m(\u001b[0m\u001b[0mmhdimage\u001b[0m\u001b[1;33m.\u001b[0m\u001b[0mGetSpacing\u001b[0m\u001b[1;33m(\u001b[0m\u001b[1;33m)\u001b[0m\u001b[1;33m)\u001b[0m      \u001b[1;31m# spacing of voxels in world coor. (mm)\u001b[0m\u001b[1;33m\u001b[0m\u001b[1;33m\u001b[0m\u001b[0m\n",
      "\u001b[1;32mc:\\Users\\user\\anaconda3\\envs\\labelstudio\\Lib\\site-packages\\SimpleITK\\extra.py\u001b[0m in \u001b[0;36m?\u001b[1;34m(fileName, outputPixelType, imageIO)\u001b[0m\n\u001b[0;32m    371\u001b[0m         \u001b[0mreader\u001b[0m\u001b[1;33m.\u001b[0m\u001b[0mSetFileNames\u001b[0m\u001b[1;33m(\u001b[0m\u001b[1;33m[\u001b[0m\u001b[0mstr\u001b[0m\u001b[1;33m(\u001b[0m\u001b[0mname\u001b[0m\u001b[1;33m)\u001b[0m \u001b[1;32mfor\u001b[0m \u001b[0mname\u001b[0m \u001b[1;32min\u001b[0m \u001b[0mfileName\u001b[0m\u001b[1;33m]\u001b[0m\u001b[1;33m)\u001b[0m\u001b[1;33m\u001b[0m\u001b[1;33m\u001b[0m\u001b[0m\n\u001b[0;32m    372\u001b[0m \u001b[1;33m\u001b[0m\u001b[0m\n\u001b[0;32m    373\u001b[0m     \u001b[0mreader\u001b[0m\u001b[1;33m.\u001b[0m\u001b[0mSetImageIO\u001b[0m\u001b[1;33m(\u001b[0m\u001b[0mimageIO\u001b[0m\u001b[1;33m)\u001b[0m\u001b[1;33m\u001b[0m\u001b[1;33m\u001b[0m\u001b[0m\n\u001b[0;32m    374\u001b[0m     \u001b[0mreader\u001b[0m\u001b[1;33m.\u001b[0m\u001b[0mSetOutputPixelType\u001b[0m\u001b[1;33m(\u001b[0m\u001b[0moutputPixelType\u001b[0m\u001b[1;33m)\u001b[0m\u001b[1;33m\u001b[0m\u001b[1;33m\u001b[0m\u001b[0m\n\u001b[1;32m--> 375\u001b[1;33m     \u001b[1;32mreturn\u001b[0m \u001b[0mreader\u001b[0m\u001b[1;33m.\u001b[0m\u001b[0mExecute\u001b[0m\u001b[1;33m(\u001b[0m\u001b[1;33m)\u001b[0m\u001b[1;33m\u001b[0m\u001b[1;33m\u001b[0m\u001b[0m\n\u001b[0m",
      "\u001b[1;32mc:\\Users\\user\\anaconda3\\envs\\labelstudio\\Lib\\site-packages\\SimpleITK\\SimpleITK.py\u001b[0m in \u001b[0;36m?\u001b[1;34m(self)\u001b[0m\n\u001b[0;32m   8426\u001b[0m         \u001b[0mtype\u001b[0m \u001b[0mto\u001b[0m \u001b[0mbe\u001b[0m \u001b[0msame\u001b[0m \u001b[1;32mas\u001b[0m \u001b[0mthe\u001b[0m \u001b[0mfile\u001b[0m\u001b[1;33m.\u001b[0m \u001b[0mIf\u001b[0m \u001b[0mthe\u001b[0m \u001b[0mpixel\u001b[0m \u001b[0mtype\u001b[0m \u001b[1;32mis\u001b[0m \u001b[0mspecified\u001b[0m \u001b[0mthen\u001b[0m \u001b[0mthe\u001b[0m \u001b[0mitk\u001b[0m\u001b[1;33m:\u001b[0m\u001b[1;33m:\u001b[0m\u001b[0mConvertPixelBuffer\u001b[0m \u001b[0mwill\u001b[0m \u001b[0mbe\u001b[0m \u001b[0mused\u001b[0m \u001b[0mto\u001b[0m \u001b[0mconvert\u001b[0m \u001b[0mthe\u001b[0m \u001b[0mpixels\u001b[0m\u001b[1;33m.\u001b[0m\u001b[1;33m\u001b[0m\u001b[1;33m\u001b[0m\u001b[0m\n\u001b[0;32m   8427\u001b[0m \u001b[1;33m\u001b[0m\u001b[0m\n\u001b[0;32m   8428\u001b[0m \u001b[1;33m\u001b[0m\u001b[0m\n\u001b[0;32m   8429\u001b[0m         \"\"\"\n\u001b[1;32m-> 8430\u001b[1;33m         \u001b[1;32mreturn\u001b[0m \u001b[0m_SimpleITK\u001b[0m\u001b[1;33m.\u001b[0m\u001b[0mImageFileReader_Execute\u001b[0m\u001b[1;33m(\u001b[0m\u001b[0mself\u001b[0m\u001b[1;33m)\u001b[0m\u001b[1;33m\u001b[0m\u001b[1;33m\u001b[0m\u001b[0m\n\u001b[0m",
      "\u001b[1;31mRuntimeError\u001b[0m: Exception thrown in SimpleITK ImageFileReader_Execute: D:\\a\\1\\sitk-build\\ITK\\Modules\\IO\\Meta\\src\\itkMetaImageIO.cxx:484:\nITK ERROR: MetaImageIO(0000013FB069FB80): File cannot be read: data/luna16/original/subset9\\1.3.6.1.4.1.14519.5.2.1.6279.6001.194632613233275988184244485809.mhd for reading.\nReason: No such file or directory"
     ]
    }
   ],
   "source": [
    "masks = []\n",
    "imgs = []\n",
    "tt = -1\n",
    "v_centers = []\n",
    "v_diameters = []\n",
    "id_patient = []\n",
    "ct_scan = []\n",
    "origin_image = []\n",
    "spacing_image = []\n",
    "imgs_cropped = []\n",
    "masks_cropped = []\n",
    "\n",
    "imgs_ori = []\n",
    "imgs_cropped_ori = []\n",
    "\n",
    "#original annotations\n",
    "series_id = []\n",
    "nodes_x = []\n",
    "nodes_y = []\n",
    "nodes_z = []\n",
    "diameters = []\n",
    "\n",
    "# Define the size of the crop (64x64)\n",
    "crop_size = 64\n",
    "\n",
    "clahe = cv2.createCLAHE(clipLimit=2.0, tileGridSize=(8,8))\n",
    "\n",
    "for i,file in tqdm(enumerate(np.unique(annotations_df['filename'].values))):\n",
    "    annotations = annotations_df[annotations_df[\"filename\"]==file]\n",
    "    ct, origin, spacing = load_mhd(file)\n",
    "\n",
    "    # print(spacing)\n",
    "\n",
    "    num_z, height, width = ct.shape\n",
    "    # print(annotations.shape)\n",
    "    # print(annotations)\n",
    "    # print(file)\n",
    "\n",
    "    p_vcenter = None\n",
    "    tt += 1\n",
    "    for j, mask_i in annotations.iterrows():\n",
    "        serie_id = mask_i[\"seriesuid\"]\n",
    "        node_x = int(mask_i[\"coordX\"])\n",
    "        node_y = int(mask_i[\"coordY\"])\n",
    "        node_z = int(mask_i[\"coordZ\"])\n",
    "        diam = int(mask_i[\"diameter_mm\"])\n",
    "        id = mask_i[\"id\"]\n",
    "        \n",
    "        center = np.array([node_x, node_y, node_z])   # nodule center\n",
    "        v_center = np.rint((center-origin)/spacing)   # nodule center in voxel space (still x,y,z ordering)\n",
    "        # v_diam = int(diam/spacing[0])+5\n",
    "        v_diam = int(diam/spacing[0])\n",
    "        # print(v_center)\n",
    "        img_norm = cv2.normalize(ct[int(v_center[2]),:,:], None, 0, 255, cv2.NORM_MINMAX)\n",
    "        mask = make_mask(img_norm, v_center, v_diam)\n",
    "        \n",
    "        # Calculate the coordinates for cropping\n",
    "        x_center, y_center = v_center[0], v_center[1]  # Assuming x and y are the first and second elements in v_center\n",
    "        x1 = int(x_center - crop_size / 2)\n",
    "        x2 = int(x_center + crop_size / 2)\n",
    "        y1 = int(y_center - crop_size / 2)\n",
    "        y2 = int(y_center + crop_size / 2)\n",
    "\n",
    "        # Crop the image\n",
    "        # img_cropped = img_norm[y1:y2, x1:x2]\n",
    "        # mask_cropped = mask[y1:y2, x1:x2]\n",
    "        \n",
    "        # img_cropped_ori = img_cropped\n",
    "        # img_norm_ori = img_norm\n",
    "\n",
    "        # img_norm = clahe.apply(img_norm.astype(np.uint8))\n",
    "        # mask = mask.astype(np.uint8)\n",
    "\n",
    "        # img_cropped = clahe.apply(img_cropped.astype(np.uint8))\n",
    "        # mask_cropped = mask_cropped.astype(np.uint8)\n",
    "\n",
    "        if v_center[0] >= 0 or v_center[1] >= 0 : \n",
    "        # if v_center[0] <= 0 or v_center[1] <= 0 : \n",
    "            # imgs_cropped.append(img_cropped)\n",
    "            # masks_cropped.append(mask_cropped)\n",
    "\n",
    "            #save\n",
    "            # imgs.append(img_norm)\n",
    "            # masks.append(mask)\n",
    "            \n",
    "            # imgs_ori.append(img_norm_ori)\n",
    "            # imgs_cropped_ori.append(img_cropped_ori)\n",
    "\n",
    "            v_centers.append(list(v_center))\n",
    "            v_diameters.append(v_diam)\n",
    "            id_patient.append(id)\n",
    "            # masks.append(mask_base)\n",
    "            \n",
    "            ct_scan.append(ct)\n",
    "            origin_image.append(origin)\n",
    "            spacing_image.append(spacing)\n",
    "\n",
    "            #original annot\n",
    "            series_id.append(serie_id)\n",
    "            nodes_x.append(node_x)\n",
    "            nodes_y.append(node_y)\n",
    "            nodes_z.append(node_z)\n",
    "            diameters.append(diam)\n"
   ]
  },
  {
   "cell_type": "code",
   "execution_count": null,
   "metadata": {},
   "outputs": [],
   "source": [
    "print(len(id_patient))\n",
    "print(len(masks_cropped))"
   ]
  },
  {
   "cell_type": "code",
   "execution_count": null,
   "metadata": {},
   "outputs": [],
   "source": [
    "################ check nodules that are wrong\n",
    "\n",
    "\n",
    "# data = {'id': id_patient, 'seriesuid': series_id, 'coordX': nodes_x, 'coordY': nodes_y, 'coordZ': nodes_z, 'diameter_mm': diameters, 'v_centers': v_centers, 'v_diameters': v_diameters, 'ct': ct_scan, 'origin': origin_image, 'space' : spacing_image}\n",
    "\n",
    "# df = pd.DataFrame(data)\n",
    "\n",
    "# # Define the CSV file path where you want to save the data\n",
    "# csv_file_path = root + 'output3/miss-coord.csv'\n",
    "\n",
    "# # Save the DataFrame to a CSV file\n",
    "# df.to_csv(csv_file_path, index=False)\n",
    "    \n",
    "# print(f'Data saved to {csv_file_path}')"
   ]
  },
  {
   "cell_type": "code",
   "execution_count": null,
   "metadata": {},
   "outputs": [],
   "source": [
    "# display_mask(imgs_cropped, masks_cropped, titles=id_patient)\n",
    "# display_mask(imgs, masks, titles=None)\n",
    "\n",
    "# display_mask_in_batches(imgs_cropped_ori, masks_cropped, titles=id_patient, cmap=\"bone\", batch_size=4)"
   ]
  },
  {
   "cell_type": "code",
   "execution_count": null,
   "metadata": {},
   "outputs": [],
   "source": [
    "from sklearn.cluster import KMeans\n",
    "\n",
    "masksi = []\n",
    "kmeans_masks_cropped = []\n",
    "print(len(imgs_cropped))\n",
    "print(len(masks_cropped))"
   ]
  },
  {
   "cell_type": "code",
   "execution_count": null,
   "metadata": {},
   "outputs": [],
   "source": [
    "# for i,m in zip(imgs,masks):\n",
    "# for i,m in zip(imgs_cropped,masks_cropped):\n",
    "#     e = cv2.bitwise_and(i,i,mask=cv2.dilate(m,kernel=np.ones((5,5))))\n",
    "#     pts = e[e>0]\n",
    "#     # centeral_area = i[100:400, 100:400]\n",
    "#     kmeans = KMeans(n_clusters=2).fit(np.reshape(pts,(len(pts),1)))\n",
    "#     # kmeans = KMeans(n_clusters=2).fit(np.reshape(centeral_area, [np.prod(centeral_area.shape), 1]))\n",
    "#     centroids = sorted(kmeans.cluster_centers_.flatten())\n",
    "#     threshold = np.mean(centroids)\n",
    "#     # mk = cv2.bitwise_and(i, i, mask=m)\n",
    "#     ret, lung_nod = cv2.threshold(e, threshold, 255, cv2.THRESH_BINARY)\n",
    "#     lung_nod = lung_nod.astype(np.uint8)\n",
    "#     masksi.append(lung_nod)\n"
   ]
  },
  {
   "cell_type": "code",
   "execution_count": null,
   "metadata": {},
   "outputs": [],
   "source": [
    "# for i,m in zip(imgs_cropped,masks_cropped):\n",
    "#     e = cv2.bitwise_and(i,i,mask=cv2.dilate(m,kernel=np.ones((5,5))))\n",
    "#     pts = e[e>0]\n",
    "#     # centeral_area = i[100:400, 100:400]\n",
    "#     kmeans = KMeans(n_clusters=2).fit(np.reshape(pts,(len(pts),1)))\n",
    "#     # kmeans = KMeans(n_clusters=2).fit(np.reshape(centeral_area, [np.prod(centeral_area.shape), 1]))\n",
    "#     centroids = sorted(kmeans.cluster_centers_.flatten())\n",
    "#     threshold = np.mean(centroids)\n",
    "#     # mk = cv2.bitwise_and(i, i, mask=m)\n",
    "#     ret, lung_nod = cv2.threshold(e, threshold, 255, cv2.THRESH_BINARY)\n",
    "#     lung_nod = lung_nod.astype(np.uint8)\n",
    "#     kmeans_masks_cropped.append(lung_nod)"
   ]
  },
  {
   "cell_type": "code",
   "execution_count": null,
   "metadata": {},
   "outputs": [],
   "source": [
    "# Define a kernel for morphological operations\n",
    "kernel = np.ones((3, 3), np.uint8)\n",
    "\n",
    "masks_morph = []\n",
    "masks_morph1 = []\n",
    "for i, m in zip(imgs_cropped, masks_cropped):\n",
    "    # Apply dilation to the mask\n",
    "    dilated_mask = cv2.dilate(m, kernel=np.ones((5, 5)))\n",
    "\n",
    "    # Bitwise AND the original image with the dilated mask\n",
    "    e = cv2.bitwise_and(i, i, mask=dilated_mask)\n",
    "\n",
    "    # Extract points from the region affected by dilation\n",
    "    pts = e[e > 0]\n",
    "\n",
    "    # Apply K-means clustering to the extracted points\n",
    "    kmeans = KMeans(n_clusters=2).fit(np.reshape(pts, (len(pts), 1)))\n",
    "    centroids = sorted(kmeans.cluster_centers_.flatten())\n",
    "    threshold = np.mean(centroids)\n",
    "\n",
    "    # Apply thresholding to create a binary lung nodule mask\n",
    "    ret, lung_nod = cv2.threshold(e, threshold, 255, cv2.THRESH_BINARY)\n",
    "    lung_nod = lung_nod.astype(np.uint8)\n",
    "\n",
    "    # Apply morphology operations (dilation followed by erosion) to refine the segmentation\n",
    "    lung_nod = cv2.morphologyEx(lung_nod, cv2.MORPH_CLOSE, kernel)\n",
    "    lung_nod = cv2.morphologyEx(lung_nod, cv2.MORPH_OPEN, kernel)\n",
    "\n",
    "    masks_morph.append(lung_nod)\n",
    "    # masks_morph1.append(lung_nod)"
   ]
  },
  {
   "cell_type": "code",
   "execution_count": null,
   "metadata": {},
   "outputs": [],
   "source": [
    "print(len(masks_morph))\n",
    "print(len(kmeans_masks_cropped))\n",
    "print(len(masksi))"
   ]
  },
  {
   "cell_type": "code",
   "execution_count": null,
   "metadata": {},
   "outputs": [],
   "source": [
    "# display_mask(imgs_cropped, masks_morph)\n",
    "# display_mask(imgs_cropped_ori, kmeans_masks_cropped)\n",
    "# display_mask_in_batches(imgs_cropped, kmeans_masks_cropped, titles=id_patient, cmap=\"bone\", batch_size=4)\n",
    "display_mask_in_batches(imgs_cropped, masks_morph, titles=id_patient, cmap=\"bone\", batch_size=4)\n"
   ]
  },
  {
   "cell_type": "code",
   "execution_count": null,
   "metadata": {},
   "outputs": [],
   "source": [
    "# display_mask_in_batches(imgs_cropped_ori, masks_morph, titles=id_patient, cmap=\"bone\", batch_size=4)"
   ]
  },
  {
   "cell_type": "code",
   "execution_count": null,
   "metadata": {},
   "outputs": [],
   "source": [
    "# display_mask(imgs_cropped, kmeans_masks_cropped)"
   ]
  },
  {
   "cell_type": "code",
   "execution_count": null,
   "metadata": {},
   "outputs": [],
   "source": [
    "data = {'id': id_patient, 'seriesuid': series_id, 'coordX': nodes_x, 'coordY': nodes_y, 'coordZ': nodes_z, 'diameter_mm': diameters, 'v_centers': v_centers, 'v_diameters': v_diameters, 'ct': ct_scan, 'origin': origin_image, 'space' : spacing_image}\n",
    "\n",
    "df = pd.DataFrame(data)\n",
    "\n",
    "# Define the CSV file path where you want to save the data\n",
    "csv_file_path = root + 'output3/part9/fix-mask-annotation9.csv'\n",
    "\n",
    "# Save the DataFrame to a CSV file\n",
    "df.to_csv(csv_file_path, index=False)\n",
    "    \n",
    "print(f'Data saved to {csv_file_path}')\n",
    "\n",
    "# print(len(id_patient))\n",
    "# print(len(ct_scan))\n",
    "# print(len(origin_image))\n",
    "# print(len(spacing_image))"
   ]
  },
  {
   "cell_type": "code",
   "execution_count": null,
   "metadata": {},
   "outputs": [],
   "source": [
    "print(len(imgs_cropped_ori))\n",
    "print(len(masks_morph))"
   ]
  },
  {
   "cell_type": "code",
   "execution_count": null,
   "metadata": {},
   "outputs": [],
   "source": [
    "# Output directory for saving files\n",
    "output_dir = root + 'output3/part9'\n",
    "img_cropped_dir = os.path.join(output_dir, 'img_cropped')\n",
    "mask_morph_dir = os.path.join(output_dir, 'masks_morph')\n",
    "img_cropped_ori_dir = os.path.join(output_dir, 'img_cropped_ori')\n",
    "\n",
    "# Create output directories if they don't exist\n",
    "os.makedirs(img_cropped_dir, exist_ok=True)\n",
    "os.makedirs(mask_morph_dir, exist_ok=True)\n",
    "os.makedirs(img_cropped_ori_dir, exist_ok=True)\n",
    "    \n",
    "# Loop through patient IDs and corresponding data\n",
    "for patient_id, img_cropped, mask_morph, img_cropped_ori in zip(id_patient, imgs_cropped, masks_morph, imgs_cropped_ori):\n",
    "    # Define modified filenames based on patient ID\n",
    "    img_cropped_filename = f'{patient_id}.png'\n",
    "    mask_morph_filename = f'{patient_id}.png'\n",
    "    img_cropped_ori_filename = f'{patient_id}.png'\n",
    "\n",
    "    # Save the modified images and masks to the output directory\n",
    "    cv2.imwrite(os.path.join(img_cropped_dir, img_cropped_filename), img_cropped)\n",
    "    cv2.imwrite(os.path.join(mask_morph_dir, mask_morph_filename), mask_morph)\n",
    "    cv2.imwrite(os.path.join(img_cropped_ori_dir, img_cropped_ori_filename), img_cropped_ori)\n",
    "\n",
    "print('Cropped images and morphologically processed masks saved with modified filenames.')\n"
   ]
  },
  {
   "cell_type": "code",
   "execution_count": null,
   "metadata": {},
   "outputs": [],
   "source": [
    "\n",
    "# # Output directory for saving files\n",
    "# output_dir = root + 'output1'\n",
    "# # img_dir = os.path.join(output_dir, 'img')\n",
    "# # mask_dir = os.path.join(output_dir, 'masks')\n",
    "# # img_kmeans_dir = os.path.join(output_dir, 'img_kmeans')\n",
    "\n",
    "# img_cropped_dir = os.path.join(output_dir, 'img_cropped')\n",
    "# mask_morph_dir = os.path.join(output_dir, 'masks_morph')\n",
    "\n",
    "# # mask_cropped_dir = os.path.join(output_dir, 'masks_cropped')\n",
    "# # img_cropped_kmeans_dir = os.path.join(output_dir, 'img_kmeans_cropped')\n",
    "\n",
    "# # Create output directories if they don't exist\n",
    "# # os.makedirs(img_dir, exist_ok=True)\n",
    "# # os.makedirs(mask_dir, exist_ok=True)\n",
    "# # os.makedirs(img_kmeans_dir, exist_ok=True)\n",
    "\n",
    "# os.makedirs(img_cropped_dir, exist_ok=True)\n",
    "# os.makedirs(mask_morph_dir, exist_ok=True)\n",
    "# # os.makedirs(img_cropped_kmeans_dir, exist_ok=True)\n",
    "\n",
    "# # Loop through patient IDs and corresponding data\n",
    "# for patient_id, img, mask, kmeans_mask, img_cropped, mask_cropped, kmeans_mask_cropped, mask_morph in zip(id_patient, imgs, masks, masksi, imgs_cropped, masks_cropped, kmeans_masks_cropped, masks_morph):\n",
    "#     # Define modified filenames based on patient ID\n",
    "#     # img_filename = f'{patient_id}.png'\n",
    "#     # mask_filename = f'{patient_id}.png'\n",
    "#     # kmeans_mask_filename = f'{patient_id}.png'\n",
    "\n",
    "#     img_cropped_filename = f'{patient_id}.png'\n",
    "#     mask_morph_filename = f'{patient_id}.png'\n",
    "\n",
    "#     # mask_cropped_filename = f'{patient_id}.png'\n",
    "#     # kmeans_cropped_mask_filename = f'{patient_id}.png'\n",
    "\n",
    "#     # Save the modified images and masks to the output directory\n",
    "#     # cv2.imwrite(os.path.join(img_dir, img_filename), img)\n",
    "#     # cv2.imwrite(os.path.join(mask_dir, mask_filename), mask)\n",
    "#     # cv2.imwrite(os.path.join(img_kmeans_dir, kmeans_mask_filename), kmeans_mask)\n",
    "\n",
    "#     cv2.imwrite(os.path.join(img_cropped_dir, img_cropped_filename), img_cropped)\n",
    "#     cv2.imwrite(os.path.join(mask_morph_dir, mask_morph_filename), mask_morph)\n",
    "\n",
    "#     # cv2.imwrite(os.path.join(mask_cropped_dir, mask_cropped_filename), mask_cropped)\n",
    "#     # cv2.imwrite(os.path.join(img_cropped_kmeans_dir, kmeans_cropped_mask_filename), kmeans_mask_cropped)\n",
    "# print('Images, masks, and k-means masks saved with modified filenames.')"
   ]
  }
 ],
 "metadata": {
  "kernelspec": {
   "display_name": "labelstudio",
   "language": "python",
   "name": "python3"
  },
  "language_info": {
   "codemirror_mode": {
    "name": "ipython",
    "version": 3
   },
   "file_extension": ".py",
   "mimetype": "text/x-python",
   "name": "python",
   "nbconvert_exporter": "python",
   "pygments_lexer": "ipython3",
   "version": "3.9.17"
  },
  "orig_nbformat": 4
 },
 "nbformat": 4,
 "nbformat_minor": 2
}
