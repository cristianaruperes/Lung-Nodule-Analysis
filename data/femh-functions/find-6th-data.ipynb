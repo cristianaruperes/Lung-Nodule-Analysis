{
 "cells": [
  {
   "cell_type": "code",
   "execution_count": 3,
   "metadata": {},
   "outputs": [
    {
     "name": "stdout",
     "output_type": "stream",
     "text": [
      "                     ID                                           Filename\n",
      "0     B001\\1\\2017-07-18  CT Low Dose Chest (Lung).MPR 2-2mm axi.Se 4.Im...\n",
      "1     B001\\1\\2019-03-18  CT Low Dose Chest (Lung).MPR 2-2mm axi.Se 4.Im...\n",
      "2     B001\\1\\2022-04-11  CT Low Dose Chest (Lung).AXI MPR LungCARE 2-2m...\n",
      "3     B002\\1\\2017-09-19  CT Low Dose Chest (Lung).MPR 2-2mm axi.Se 4.Im...\n",
      "4     B002\\1\\2019-09-18  CT Low Dose Chest (Lung).MPR 2-2 mm axi.Se 4.I...\n",
      "...                 ...                                                ...\n",
      "2014  B362\\1\\2013-01-08  CT Low Dose Chest (Lung).LungCARE  3.0  SPO ax...\n",
      "2015  B362\\1\\2014-05-08  CT Low Dose Chest (Lung).LungCARE  3.0  SPO  a...\n",
      "2016  B362\\1\\2019-07-30  CT Low Dose Chest (Lung).MPR 2-2mm axi.Se 4.Im...\n",
      "2017  B362\\1\\2021-08-25  CT Low Dose Chest (Lung).MPR 2-2mm axi.Se 4.Im...\n",
      "2018  B362\\1\\2023-04-12  CT Low Dose Chest (Lung).MPR 2-2mm axi.Se 4.Im...\n",
      "\n",
      "[2019 rows x 2 columns]\n"
     ]
    }
   ],
   "source": [
    "import pandas as pd\n",
    "\n",
    "# Read the data from the input CSV file\n",
    "input_csv_file = 'dataset/filenames-nodule - 3.csv'\n",
    "df = pd.read_csv(input_csv_file)\n",
    "\n",
    "# Group the DataFrame by 'ID' and get the 6th filename for each group\n",
    "sixth_filenames = df.groupby('ID')['Filename'].nth(5)\n",
    "\n",
    "# Reset the index to make it a DataFrame\n",
    "result_df = sixth_filenames.reset_index()\n",
    "\n",
    "# Save the result to an output CSV file\n",
    "output_csv_file = 'dataset/filenames-nodule - 3 - output.csv'\n",
    "result_df.to_csv(output_csv_file, index=False)\n",
    "\n",
    "# Print the result DataFrame (optional)\n",
    "print(result_df)"
   ]
  }
 ],
 "metadata": {
  "kernelspec": {
   "display_name": "labelstudio",
   "language": "python",
   "name": "python3"
  },
  "language_info": {
   "codemirror_mode": {
    "name": "ipython",
    "version": 3
   },
   "file_extension": ".py",
   "mimetype": "text/x-python",
   "name": "python",
   "nbconvert_exporter": "python",
   "pygments_lexer": "ipython3",
   "version": "3.11.4"
  },
  "orig_nbformat": 4
 },
 "nbformat": 4,
 "nbformat_minor": 2
}
