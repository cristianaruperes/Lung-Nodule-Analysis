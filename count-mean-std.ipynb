{
 "cells": [
  {
   "cell_type": "code",
   "execution_count": 4,
   "metadata": {},
   "outputs": [
    {
     "name": "stdout",
     "output_type": "stream",
     "text": [
      "Mean: 0.923\n",
      "Standard Deviation: 0.002190890230020666\n"
     ]
    }
   ],
   "source": [
    "import numpy as np\n",
    "\n",
    "# Assuming you have a dataset 'data'\n",
    "data = np.array([\n",
    "    0.860,\n",
    "    0.862,\n",
    "    0.854,\n",
    "    0.852,\n",
    "    0.860\n",
    "])\n",
    "\n",
    "# Calculate mean and standard deviation\n",
    "mean_value = np.mean(data)\n",
    "std_deviation = np.std(data)\n",
    "\n",
    "# Print the results\n",
    "print(f\"Mean: {mean_value}\")\n",
    "print(f\"Standard Deviation: {std_deviation}\")"
   ]
  }
 ],
 "metadata": {
  "kernelspec": {
   "display_name": "tf",
   "language": "python",
   "name": "python3"
  },
  "language_info": {
   "codemirror_mode": {
    "name": "ipython",
    "version": 3
   },
   "file_extension": ".py",
   "mimetype": "text/x-python",
   "name": "python",
   "nbconvert_exporter": "python",
   "pygments_lexer": "ipython3",
   "version": "3.10.13"
  }
 },
 "nbformat": 4,
 "nbformat_minor": 2
}
